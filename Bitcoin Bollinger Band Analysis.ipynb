{
 "cells": [
  {
   "cell_type": "markdown",
   "metadata": {},
   "source": [
    "# Bollinger Band Trading Strategy Analysis\n",
    "\n",
    "\n",
    "Jericho Calago"
   ]
  },
  {
   "cell_type": "code",
   "execution_count": 87,
   "metadata": {},
   "outputs": [],
   "source": [
    "#Imports here\n",
    "import datetime\n",
    "import pandas as pd\n",
    "import numpy as np\n",
    "import matplotlib.pyplot as plt\n",
    "import seaborn as sns"
   ]
  },
  {
   "cell_type": "markdown",
   "metadata": {},
   "source": [
    "## 1. Introduction"
   ]
  },
  {
   "cell_type": "markdown",
   "metadata": {},
   "source": [
    "The aim of this report is to analyze the performance of the Bollinger Band trading indicator. A Bollinger Band is a technical analysis metric that relies on simple moving averages (SMAs) to provide insight on both price volatility and price trends.\n",
    "\n",
    "A Bollinger Band consists of 3 main components, the middle band (which is equal to the simple moving average or SMA), the upper band (2 standard deviations above the SMA), and the lower band (2 standard deviations below the SMA).\n",
    "\n",
    "Traders use Bollinger Bands to analyze volatility levels of a given commodity. For example, the width of a bollinger band (distance between the upper and lower band), is a visualization of volatility levels in a given commodity price. \n",
    "\n",
    "Additionally, Bollinger Bands can be used as one of many indicators to try and predict price trends. If a commodity's price is close to the upper or lower band (but not exceeeding it), this might be an indicator of an upward or downward price trend repectively. However, if the price does exceed the upper or lower band, this may be an indicator of overbuying/selling, which could be an indicator of trend reversion (the end of a upward or downward trend respectively).\n",
    "\n",
    "We will be analyzing the effectiveness of using Bollinger Bands calculated on a 20 day moving average, and their ability to accurately predict market trends on a 20 day period. Traders may seek a full understanding of how Bollinger Bands interact with market prices, as it might yield a possible short-term profit making strategy by buying and selling Bitcoin according to Bollinger Band indicators."
   ]
  },
  {
   "cell_type": "markdown",
   "metadata": {},
   "source": [
    "With this dataset, we are looking to answer the question \"how does the effectiveness of the Bollinger Band indicators vary with different levels of price volatility.\" \n",
    "\n",
    "More specifically, how does the relationship between Bollinger Band predicted PNL (predicted profit) and realized PNL (amount of actual profit) over a 20 day period change for different levels of price volatility within our dataset?"
   ]
  },
  {
   "cell_type": "markdown",
   "metadata": {},
   "source": [
    "## 2. Dataset Discussion"
   ]
  },
  {
   "cell_type": "markdown",
   "metadata": {},
   "source": [
    "The dataset was downloaded from the following link: https://www.kaggle.com/datasets/mczielinski/bitcoin-historical-data.\n",
    "\n",
    "According to the documentation, the data was grabbed from multiple global exchanges of Bitcoin, utilizing their APIs (online http addresses that allow for programmatic data extraction)"
   ]
  },
  {
   "cell_type": "code",
   "execution_count": 88,
   "metadata": {},
   "outputs": [
    {
     "data": {
      "text/html": [
       "<div>\n",
       "<style scoped>\n",
       "    .dataframe tbody tr th:only-of-type {\n",
       "        vertical-align: middle;\n",
       "    }\n",
       "\n",
       "    .dataframe tbody tr th {\n",
       "        vertical-align: top;\n",
       "    }\n",
       "\n",
       "    .dataframe thead th {\n",
       "        text-align: right;\n",
       "    }\n",
       "</style>\n",
       "<table border=\"1\" class=\"dataframe\">\n",
       "  <thead>\n",
       "    <tr style=\"text-align: right;\">\n",
       "      <th></th>\n",
       "      <th>Timestamp</th>\n",
       "      <th>Open</th>\n",
       "      <th>High</th>\n",
       "      <th>Low</th>\n",
       "      <th>Close</th>\n",
       "      <th>Volume_(BTC)</th>\n",
       "      <th>Volume_(Currency)</th>\n",
       "      <th>Weighted_Price</th>\n",
       "    </tr>\n",
       "  </thead>\n",
       "  <tbody>\n",
       "    <tr>\n",
       "      <th>0</th>\n",
       "      <td>1325317920</td>\n",
       "      <td>4.39</td>\n",
       "      <td>4.39</td>\n",
       "      <td>4.39</td>\n",
       "      <td>4.39</td>\n",
       "      <td>0.455581</td>\n",
       "      <td>2.0</td>\n",
       "      <td>4.39</td>\n",
       "    </tr>\n",
       "    <tr>\n",
       "      <th>1</th>\n",
       "      <td>1325317980</td>\n",
       "      <td>NaN</td>\n",
       "      <td>NaN</td>\n",
       "      <td>NaN</td>\n",
       "      <td>NaN</td>\n",
       "      <td>NaN</td>\n",
       "      <td>NaN</td>\n",
       "      <td>NaN</td>\n",
       "    </tr>\n",
       "    <tr>\n",
       "      <th>2</th>\n",
       "      <td>1325318040</td>\n",
       "      <td>NaN</td>\n",
       "      <td>NaN</td>\n",
       "      <td>NaN</td>\n",
       "      <td>NaN</td>\n",
       "      <td>NaN</td>\n",
       "      <td>NaN</td>\n",
       "      <td>NaN</td>\n",
       "    </tr>\n",
       "    <tr>\n",
       "      <th>3</th>\n",
       "      <td>1325318100</td>\n",
       "      <td>NaN</td>\n",
       "      <td>NaN</td>\n",
       "      <td>NaN</td>\n",
       "      <td>NaN</td>\n",
       "      <td>NaN</td>\n",
       "      <td>NaN</td>\n",
       "      <td>NaN</td>\n",
       "    </tr>\n",
       "    <tr>\n",
       "      <th>4</th>\n",
       "      <td>1325318160</td>\n",
       "      <td>NaN</td>\n",
       "      <td>NaN</td>\n",
       "      <td>NaN</td>\n",
       "      <td>NaN</td>\n",
       "      <td>NaN</td>\n",
       "      <td>NaN</td>\n",
       "      <td>NaN</td>\n",
       "    </tr>\n",
       "  </tbody>\n",
       "</table>\n",
       "</div>"
      ],
      "text/plain": [
       "    Timestamp  Open  High   Low  Close  Volume_(BTC)  Volume_(Currency)  \\\n",
       "0  1325317920  4.39  4.39  4.39   4.39      0.455581                2.0   \n",
       "1  1325317980   NaN   NaN   NaN    NaN           NaN                NaN   \n",
       "2  1325318040   NaN   NaN   NaN    NaN           NaN                NaN   \n",
       "3  1325318100   NaN   NaN   NaN    NaN           NaN                NaN   \n",
       "4  1325318160   NaN   NaN   NaN    NaN           NaN                NaN   \n",
       "\n",
       "   Weighted_Price  \n",
       "0            4.39  \n",
       "1             NaN  \n",
       "2             NaN  \n",
       "3             NaN  \n",
       "4             NaN  "
      ]
     },
     "execution_count": 88,
     "metadata": {},
     "output_type": "execute_result"
    }
   ],
   "source": [
    "df = pd.read_csv(\"bitstampUSD_1-min_data_2012-01-01_to_2021-03-31.csv\")\n",
    "df.head()"
   ]
  },
  {
   "cell_type": "code",
   "execution_count": 89,
   "metadata": {},
   "outputs": [
    {
     "data": {
      "text/plain": [
       "4857377"
      ]
     },
     "execution_count": 89,
     "metadata": {},
     "output_type": "execute_result"
    }
   ],
   "source": [
    "df.shape[0]"
   ]
  },
  {
   "cell_type": "markdown",
   "metadata": {},
   "source": [
    "Since Bollinger Band indicators only relies on the price levels (and not the total quantity or value of items being traded), we can safely disregard these columns in our dataset, and only look at the columns that have to do with time (Timestamp), and price, which are:\n",
    "- Open: Price at the start of the trading period\n",
    "- High: Highest observed price during the trading period\n",
    "- Low: Lowest observed price during the trading period\n",
    "- Close: Price at the end of the trading period"
   ]
  },
  {
   "cell_type": "code",
   "execution_count": 90,
   "metadata": {},
   "outputs": [
    {
     "data": {
      "text/html": [
       "<div>\n",
       "<style scoped>\n",
       "    .dataframe tbody tr th:only-of-type {\n",
       "        vertical-align: middle;\n",
       "    }\n",
       "\n",
       "    .dataframe tbody tr th {\n",
       "        vertical-align: top;\n",
       "    }\n",
       "\n",
       "    .dataframe thead th {\n",
       "        text-align: right;\n",
       "    }\n",
       "</style>\n",
       "<table border=\"1\" class=\"dataframe\">\n",
       "  <thead>\n",
       "    <tr style=\"text-align: right;\">\n",
       "      <th></th>\n",
       "      <th>Timestamp</th>\n",
       "      <th>Open</th>\n",
       "      <th>High</th>\n",
       "      <th>Low</th>\n",
       "      <th>Close</th>\n",
       "    </tr>\n",
       "  </thead>\n",
       "  <tbody>\n",
       "    <tr>\n",
       "      <th>0</th>\n",
       "      <td>1325317920</td>\n",
       "      <td>4.39</td>\n",
       "      <td>4.39</td>\n",
       "      <td>4.39</td>\n",
       "      <td>4.39</td>\n",
       "    </tr>\n",
       "    <tr>\n",
       "      <th>1</th>\n",
       "      <td>1325317980</td>\n",
       "      <td>NaN</td>\n",
       "      <td>NaN</td>\n",
       "      <td>NaN</td>\n",
       "      <td>NaN</td>\n",
       "    </tr>\n",
       "    <tr>\n",
       "      <th>2</th>\n",
       "      <td>1325318040</td>\n",
       "      <td>NaN</td>\n",
       "      <td>NaN</td>\n",
       "      <td>NaN</td>\n",
       "      <td>NaN</td>\n",
       "    </tr>\n",
       "    <tr>\n",
       "      <th>3</th>\n",
       "      <td>1325318100</td>\n",
       "      <td>NaN</td>\n",
       "      <td>NaN</td>\n",
       "      <td>NaN</td>\n",
       "      <td>NaN</td>\n",
       "    </tr>\n",
       "    <tr>\n",
       "      <th>4</th>\n",
       "      <td>1325318160</td>\n",
       "      <td>NaN</td>\n",
       "      <td>NaN</td>\n",
       "      <td>NaN</td>\n",
       "      <td>NaN</td>\n",
       "    </tr>\n",
       "  </tbody>\n",
       "</table>\n",
       "</div>"
      ],
      "text/plain": [
       "    Timestamp  Open  High   Low  Close\n",
       "0  1325317920  4.39  4.39  4.39   4.39\n",
       "1  1325317980   NaN   NaN   NaN    NaN\n",
       "2  1325318040   NaN   NaN   NaN    NaN\n",
       "3  1325318100   NaN   NaN   NaN    NaN\n",
       "4  1325318160   NaN   NaN   NaN    NaN"
      ]
     },
     "execution_count": 90,
     "metadata": {},
     "output_type": "execute_result"
    }
   ],
   "source": [
    "df = df[[\"Timestamp\", \"Open\", \"High\", \"Low\", \"Close\"]]\n",
    "df.head()"
   ]
  },
  {
   "cell_type": "code",
   "execution_count": 91,
   "metadata": {},
   "outputs": [
    {
     "name": "stdout",
     "output_type": "stream",
     "text": [
      "2011-12-31 01:52:00\n",
      "2011-12-31 01:53:00\n"
     ]
    }
   ],
   "source": [
    "timestamp1 = 1325317920\n",
    "timestamp2 = 1325317980\n",
    "\n",
    "dt1 = datetime.datetime.fromtimestamp(timestamp1)\n",
    "dt2 = datetime.datetime.fromtimestamp(timestamp2)\n",
    "\n",
    "print(dt1)\n",
    "print(dt2)"
   ]
  },
  {
   "cell_type": "markdown",
   "metadata": {},
   "source": [
    "As we can see above, by taking the first two timestamps from our dataset, we can see that each row is an increment of 1 minute from the previous one. To create Bollinger Bands on a 20 day period, we must first aggregate the cleaned data into a table that has at least two columns: Price at a given Day, and the Day, and then calculate the Bollinger Band limits along with predictions and realized profits and losses (abbreviated PNL). \n",
    "\n",
    "We will not be disregarding any numerical outlier data within our analysis, as outlier events must be accounted for in order to consistently make money on the market. By failing to account for market crashes or large upticks, we (and the traders who might use this analysis) lose the ability to prepare for these high volatility events where profit and loss margins are at their highest. We only will disregard rows/days where we lack a sufficient amount of data, as this may potentially misrepresent the underlying data trends within a trading day."
   ]
  },
  {
   "cell_type": "markdown",
   "metadata": {},
   "source": [
    "Specifically, the 3 variables we will create are as follows:\n",
    "- Bollinger Band Predicted PNL (the amount of profit adjusted by bitcoin price the Bollinger Band method predicts in the next 20 days)\n",
    "- Realied PNL (the amount of profit/loss adjusted by bitcoin price that actually ocurred in the next 20 days)\n",
    "- Bollinger Band Width (Volatility, or a numerical representation of how much the price is changing within a certain trading period)"
   ]
  },
  {
   "cell_type": "markdown",
   "metadata": {},
   "source": [
    "## 3. Dataset Cleaning"
   ]
  },
  {
   "cell_type": "markdown",
   "metadata": {},
   "source": [
    "We can start by dropping the NaN values that are clearly visible when we print df.head()."
   ]
  },
  {
   "cell_type": "code",
   "execution_count": 92,
   "metadata": {},
   "outputs": [
    {
     "name": "stdout",
     "output_type": "stream",
     "text": [
      "Before: 4857377, After: 3613769\n"
     ]
    }
   ],
   "source": [
    "nan_filter = df.dropna().copy()\n",
    "print(f\"Before: {df.shape[0]}, After: {nan_filter.shape[0]}\")"
   ]
  },
  {
   "cell_type": "markdown",
   "metadata": {},
   "source": [
    "From here, we need to get rid of the days where there aren't enough points of data to construct a reliable daily average for the price. We can construct a column in the dataframe that uses python's datetime methods to convert the timestamp into the date, then get rid of the dates that have less than 10 hours of trading data (less than 600 1-minute intervals).\n",
    "\n",
    "Leaving these dates out might leave gaps in our dataset, which might make the Bollinger Band indicators less accurate as it has less data to work with, however leaving them in might **also** make the indicators less accurate, as we may have regions where not enough data exists to provide a full picture of the market, and we may be misrepresenting the data by leaving these dates in. Instead of testing both possibilities, we will simply remove these dates."
   ]
  },
  {
   "cell_type": "code",
   "execution_count": 93,
   "metadata": {},
   "outputs": [
    {
     "data": {
      "text/html": [
       "<div>\n",
       "<style scoped>\n",
       "    .dataframe tbody tr th:only-of-type {\n",
       "        vertical-align: middle;\n",
       "    }\n",
       "\n",
       "    .dataframe tbody tr th {\n",
       "        vertical-align: top;\n",
       "    }\n",
       "\n",
       "    .dataframe thead th {\n",
       "        text-align: right;\n",
       "    }\n",
       "</style>\n",
       "<table border=\"1\" class=\"dataframe\">\n",
       "  <thead>\n",
       "    <tr style=\"text-align: right;\">\n",
       "      <th></th>\n",
       "      <th>Timestamp</th>\n",
       "      <th>Open</th>\n",
       "      <th>High</th>\n",
       "      <th>Low</th>\n",
       "      <th>Close</th>\n",
       "      <th>Date</th>\n",
       "    </tr>\n",
       "  </thead>\n",
       "  <tbody>\n",
       "    <tr>\n",
       "      <th>0</th>\n",
       "      <td>1325317920</td>\n",
       "      <td>4.39</td>\n",
       "      <td>4.39</td>\n",
       "      <td>4.39</td>\n",
       "      <td>4.39</td>\n",
       "      <td>2011-12-31</td>\n",
       "    </tr>\n",
       "    <tr>\n",
       "      <th>478</th>\n",
       "      <td>1325346600</td>\n",
       "      <td>4.39</td>\n",
       "      <td>4.39</td>\n",
       "      <td>4.39</td>\n",
       "      <td>4.39</td>\n",
       "      <td>2011-12-31</td>\n",
       "    </tr>\n",
       "    <tr>\n",
       "      <th>547</th>\n",
       "      <td>1325350740</td>\n",
       "      <td>4.50</td>\n",
       "      <td>4.57</td>\n",
       "      <td>4.50</td>\n",
       "      <td>4.57</td>\n",
       "      <td>2011-12-31</td>\n",
       "    </tr>\n",
       "    <tr>\n",
       "      <th>548</th>\n",
       "      <td>1325350800</td>\n",
       "      <td>4.58</td>\n",
       "      <td>4.58</td>\n",
       "      <td>4.58</td>\n",
       "      <td>4.58</td>\n",
       "      <td>2011-12-31</td>\n",
       "    </tr>\n",
       "    <tr>\n",
       "      <th>1224</th>\n",
       "      <td>1325391360</td>\n",
       "      <td>4.58</td>\n",
       "      <td>4.58</td>\n",
       "      <td>4.58</td>\n",
       "      <td>4.58</td>\n",
       "      <td>2011-12-31</td>\n",
       "    </tr>\n",
       "  </tbody>\n",
       "</table>\n",
       "</div>"
      ],
      "text/plain": [
       "       Timestamp  Open  High   Low  Close        Date\n",
       "0     1325317920  4.39  4.39  4.39   4.39  2011-12-31\n",
       "478   1325346600  4.39  4.39  4.39   4.39  2011-12-31\n",
       "547   1325350740  4.50  4.57  4.50   4.57  2011-12-31\n",
       "548   1325350800  4.58  4.58  4.58   4.58  2011-12-31\n",
       "1224  1325391360  4.58  4.58  4.58   4.58  2011-12-31"
      ]
     },
     "execution_count": 93,
     "metadata": {},
     "output_type": "execute_result"
    }
   ],
   "source": [
    "# create the Date column\n",
    "nan_filter[\"Date\"] = nan_filter[\"Timestamp\"].apply(lambda x: datetime.datetime.fromtimestamp(x).date())\n",
    "nan_filter.head()"
   ]
  },
  {
   "cell_type": "code",
   "execution_count": 94,
   "metadata": {},
   "outputs": [
    {
     "name": "stdout",
     "output_type": "stream",
     "text": [
      "         Timestamp   Open   High    Low  Close        Date\n",
      "620531  1362549780  44.25  44.25  44.24  44.24  2013-03-06\n",
      "620532  1362549840  44.25  44.25  44.25  44.25  2013-03-06\n",
      "620533  1362549900  44.36  44.36  44.36  44.36  2013-03-06\n",
      "620535  1362550020  44.58  44.59  44.58  44.59  2013-03-06\n",
      "620536  1362550080  44.59  44.59  44.59  44.59  2013-03-06\n",
      "Before: 3613769, After: 3554801\n"
     ]
    }
   ],
   "source": [
    "# Filter out days with less than 10 hours of trading data (less than 600 instances)\n",
    "date_counts = nan_filter[\"Date\"].value_counts()\n",
    "day_count_greater_600 = date_counts[date_counts > 600].index\n",
    "\n",
    "day_filter = nan_filter[nan_filter[\"Date\"].isin(day_count_greater_600)]\n",
    "print(day_filter.head())\n",
    "print(f\"Before: {nan_filter.shape[0]}, After: {day_filter.shape[0]}\")"
   ]
  },
  {
   "cell_type": "markdown",
   "metadata": {},
   "source": [
    "From here, we need to get rid of the rows whose date is too isolated to be part of a 20-day moving average, and label the ones that are as \"Calculable\" or not.\n",
    "\n",
    "For example, if we measure time from t = 0 to infinity, and have datapoints for t = 1, 5, 6 and t = 20, 21, 22, ..., 39. \n",
    "- Mark t = 39 as \"Calculable\" (as we can construct a 20-day moving average for t = 39)\n",
    "- Mark t = 20, 21, ..., 38 as \"not Calculable\" (as we must keep them to calculate the 20-day moving average at t = 39, but can't calculate their own 20-day moving average)\n",
    "- Drop t = 1, 5, and 6 (as they aren't part of any day's 20-day moving average).\n",
    "\n"
   ]
  },
  {
   "cell_type": "code",
   "execution_count": 95,
   "metadata": {},
   "outputs": [
    {
     "name": "stdout",
     "output_type": "stream",
     "text": [
      "         Timestamp    Open    High     Low   Close        Date\n",
      "666550  1365310920  142.79  142.79  142.79  142.79  2013-04-07\n",
      "666559  1365311460  142.79  142.79  142.79  142.79  2013-04-07\n",
      "666560  1365311520  142.79  142.79  142.79  142.79  2013-04-07\n",
      "666587  1365313140  142.17  142.17  142.17  142.17  2013-04-07\n",
      "666590  1365313320  142.17  142.17  142.17  142.17  2013-04-07\n",
      "Before: 2901, After: 2824\n"
     ]
    }
   ],
   "source": [
    "# given a date object, generate a list of the 19 days before it\n",
    "def generate_19_days_before(date):\n",
    "    days_before = []\n",
    "    for i in range(1, 20):\n",
    "        day_i_before = date - datetime.timedelta(days = i)\n",
    "        days_before.append(day_i_before)\n",
    "    return days_before\n",
    "\n",
    "# grab a list of all the remaining days in our dataset\n",
    "all_days = day_filter[\"Date\"].unique()\n",
    "\n",
    "# Set to store all calculable days\n",
    "days_with_calculable_sma = set()\n",
    "# Set to store all days we must keep\n",
    "relevant_days = set()\n",
    "\n",
    "# Find all days where 20 day MSA is calculable\n",
    "for date in all_days:\n",
    "    day_range = generate_19_days_before(date)\n",
    "    is_calculable = True\n",
    "\n",
    "    for past_day in day_range:\n",
    "        if past_day not in all_days:\n",
    "            is_calculable = False\n",
    "            break\n",
    "    if is_calculable:\n",
    "        days_with_calculable_sma.add(date)\n",
    "        relevant_days.update(day_range)\n",
    "\n",
    "connected_day_filter = day_filter[day_filter[\"Date\"].isin(relevant_days) | day_filter[\"Date\"].isin(days_with_calculable_sma)]\n",
    "print(connected_day_filter.head())\n",
    "print(f\"Before: {len(all_days)}, After: {len(relevant_days)}\")"
   ]
  },
  {
   "cell_type": "markdown",
   "metadata": {},
   "source": [
    "Before we do any further operations, let's agreggate the data so that we have one row for every day, rather than every minute. We can take the mean of the Open, High, Low, and Close for all of the datapoints at a given day to preserve these price values."
   ]
  },
  {
   "cell_type": "code",
   "execution_count": 96,
   "metadata": {},
   "outputs": [
    {
     "data": {
      "text/html": [
       "<div>\n",
       "<style scoped>\n",
       "    .dataframe tbody tr th:only-of-type {\n",
       "        vertical-align: middle;\n",
       "    }\n",
       "\n",
       "    .dataframe tbody tr th {\n",
       "        vertical-align: top;\n",
       "    }\n",
       "\n",
       "    .dataframe thead th {\n",
       "        text-align: right;\n",
       "    }\n",
       "</style>\n",
       "<table border=\"1\" class=\"dataframe\">\n",
       "  <thead>\n",
       "    <tr style=\"text-align: right;\">\n",
       "      <th></th>\n",
       "      <th>Date</th>\n",
       "      <th>Open</th>\n",
       "      <th>High</th>\n",
       "      <th>Low</th>\n",
       "      <th>Close</th>\n",
       "    </tr>\n",
       "  </thead>\n",
       "  <tbody>\n",
       "    <tr>\n",
       "      <th>0</th>\n",
       "      <td>2013-04-07</td>\n",
       "      <td>157.013678</td>\n",
       "      <td>157.115734</td>\n",
       "      <td>156.925182</td>\n",
       "      <td>157.031821</td>\n",
       "    </tr>\n",
       "    <tr>\n",
       "      <th>1</th>\n",
       "      <td>2013-04-08</td>\n",
       "      <td>185.637813</td>\n",
       "      <td>185.821793</td>\n",
       "      <td>185.434712</td>\n",
       "      <td>185.664840</td>\n",
       "    </tr>\n",
       "    <tr>\n",
       "      <th>2</th>\n",
       "      <td>2013-04-09</td>\n",
       "      <td>216.701803</td>\n",
       "      <td>216.871010</td>\n",
       "      <td>216.497538</td>\n",
       "      <td>216.733490</td>\n",
       "    </tr>\n",
       "    <tr>\n",
       "      <th>3</th>\n",
       "      <td>2013-04-10</td>\n",
       "      <td>196.401490</td>\n",
       "      <td>197.200384</td>\n",
       "      <td>195.179733</td>\n",
       "      <td>196.201922</td>\n",
       "    </tr>\n",
       "    <tr>\n",
       "      <th>4</th>\n",
       "      <td>2013-04-11</td>\n",
       "      <td>107.131973</td>\n",
       "      <td>107.804018</td>\n",
       "      <td>106.197963</td>\n",
       "      <td>106.997931</td>\n",
       "    </tr>\n",
       "  </tbody>\n",
       "</table>\n",
       "</div>"
      ],
      "text/plain": [
       "         Date        Open        High         Low       Close\n",
       "0  2013-04-07  157.013678  157.115734  156.925182  157.031821\n",
       "1  2013-04-08  185.637813  185.821793  185.434712  185.664840\n",
       "2  2013-04-09  216.701803  216.871010  216.497538  216.733490\n",
       "3  2013-04-10  196.401490  197.200384  195.179733  196.201922\n",
       "4  2013-04-11  107.131973  107.804018  106.197963  106.997931"
      ]
     },
     "execution_count": 96,
     "metadata": {},
     "output_type": "execute_result"
    }
   ],
   "source": [
    "grouped_day_df = connected_day_filter.groupby(\"Date\").mean().reset_index()[[\"Date\", \"Open\", \"High\", \"Low\", \"Close\"]]\n",
    "grouped_day_df.head()"
   ]
  },
  {
   "cell_type": "markdown",
   "metadata": {},
   "source": [
    "Now we can create the \"Is_Calculable\" column based on the definition we defined above:"
   ]
  },
  {
   "cell_type": "code",
   "execution_count": 97,
   "metadata": {},
   "outputs": [
    {
     "name": "stdout",
     "output_type": "stream",
     "text": [
      "         Date        Open        High         Low       Close  Is_Calculable\n",
      "0  2013-04-07  157.013678  157.115734  156.925182  157.031821          False\n",
      "1  2013-04-08  185.637813  185.821793  185.434712  185.664840          False\n",
      "2  2013-04-09  216.701803  216.871010  216.497538  216.733490          False\n",
      "3  2013-04-10  196.401490  197.200384  195.179733  196.201922          False\n",
      "4  2013-04-11  107.131973  107.804018  106.197963  106.997931          False\n",
      "Is_Calculable\n",
      "True     2608\n",
      "False     228\n",
      "Name: count, dtype: int64\n"
     ]
    }
   ],
   "source": [
    "# Function to determine whether a date is calculable or not\n",
    "def determine_is_calculable(date):\n",
    "    if date in days_with_calculable_sma:\n",
    "        return True\n",
    "    if date in relevant_days:\n",
    "        return False\n",
    "    # if we get down here, that means a date in our dataset doesn't have calculatable SMA \n",
    "    # and also isn't used in any other day's SMA, so we should print an error message to recognize this\n",
    "    print(\"You should never get here...\")\n",
    "    return False\n",
    "\n",
    "# Code to create the \"Calculable\" category\n",
    "grouped_day_df.loc[:, \"Is_Calculable\"] = grouped_day_df.loc[:, \"Date\"].apply(determine_is_calculable)\n",
    "print(grouped_day_df.head())\n",
    "print(grouped_day_df[\"Is_Calculable\"].value_counts())"
   ]
  },
  {
   "cell_type": "markdown",
   "metadata": {},
   "source": [
    "Lastly, we can create a column for the OHLC (open-high-low-close) average. By averaging the open, high, low, and close over a given trading period (in our case, over a day), we can combine all of these metrics into one number to represent the \"price\" at a given day."
   ]
  },
  {
   "cell_type": "code",
   "execution_count": 98,
   "metadata": {},
   "outputs": [
    {
     "data": {
      "text/html": [
       "<div>\n",
       "<style scoped>\n",
       "    .dataframe tbody tr th:only-of-type {\n",
       "        vertical-align: middle;\n",
       "    }\n",
       "\n",
       "    .dataframe tbody tr th {\n",
       "        vertical-align: top;\n",
       "    }\n",
       "\n",
       "    .dataframe thead th {\n",
       "        text-align: right;\n",
       "    }\n",
       "</style>\n",
       "<table border=\"1\" class=\"dataframe\">\n",
       "  <thead>\n",
       "    <tr style=\"text-align: right;\">\n",
       "      <th></th>\n",
       "      <th>Date</th>\n",
       "      <th>Ohlc_Avg</th>\n",
       "      <th>Is_Calculable</th>\n",
       "    </tr>\n",
       "  </thead>\n",
       "  <tbody>\n",
       "    <tr>\n",
       "      <th>0</th>\n",
       "      <td>2013-04-07</td>\n",
       "      <td>157.021604</td>\n",
       "      <td>False</td>\n",
       "    </tr>\n",
       "    <tr>\n",
       "      <th>1</th>\n",
       "      <td>2013-04-08</td>\n",
       "      <td>185.639790</td>\n",
       "      <td>False</td>\n",
       "    </tr>\n",
       "    <tr>\n",
       "      <th>2</th>\n",
       "      <td>2013-04-09</td>\n",
       "      <td>216.700960</td>\n",
       "      <td>False</td>\n",
       "    </tr>\n",
       "    <tr>\n",
       "      <th>3</th>\n",
       "      <td>2013-04-10</td>\n",
       "      <td>196.245882</td>\n",
       "      <td>False</td>\n",
       "    </tr>\n",
       "    <tr>\n",
       "      <th>4</th>\n",
       "      <td>2013-04-11</td>\n",
       "      <td>107.032971</td>\n",
       "      <td>False</td>\n",
       "    </tr>\n",
       "  </tbody>\n",
       "</table>\n",
       "</div>"
      ],
      "text/plain": [
       "         Date    Ohlc_Avg  Is_Calculable\n",
       "0  2013-04-07  157.021604          False\n",
       "1  2013-04-08  185.639790          False\n",
       "2  2013-04-09  216.700960          False\n",
       "3  2013-04-10  196.245882          False\n",
       "4  2013-04-11  107.032971          False"
      ]
     },
     "execution_count": 98,
     "metadata": {},
     "output_type": "execute_result"
    }
   ],
   "source": [
    "def calculate_ohlc_avg(row):\n",
    "    return (row[\"Open\"] + row[\"High\"] + row[\"Low\"] + row[\"Close\"]) / 4\n",
    "# apply \"calculate_ohlc_avg\" to all of the rows (axis = 1) on our grouped day dataset\n",
    "grouped_day_df[\"Ohlc_Avg\"] = grouped_day_df.apply(calculate_ohlc_avg, axis=1)\n",
    "\n",
    "final_filtered_df = grouped_day_df[[\"Date\", \"Ohlc_Avg\", \"Is_Calculable\"]].copy()\n",
    "final_filtered_df.head()"
   ]
  },
  {
   "cell_type": "markdown",
   "metadata": {},
   "source": [
    "Now that we are finished cleaning the dataset, we can move on to constructing the Bollinger Bands and analyzing their performance."
   ]
  },
  {
   "cell_type": "markdown",
   "metadata": {},
   "source": [
    "## 4. <u>Research Question</u>: How does the Relationship between `x` and `y` Change based on Different Values of `z` in the Dataset?"
   ]
  },
  {
   "cell_type": "markdown",
   "metadata": {},
   "source": [
    "With this dataset, we are looking to answer the question \"how does the effectiveness of Bollinger Band indicators vary with different levels of price volatility.\" More specifically, how do Bollinger Band indicators (predicting trend swings when the commodity price exceeds the bounds of the Bollinger Band) vary in accuracy and performance given different levels of price volatility (a metric we will define as the distance between the top and bottom of the bollinger bands).\n",
    "\n",
    "Let's start by constructing 4 columns to represent our Bollinger Band. \"20_Day_MSA\" will be the middle band, \"Band_Top\" will be our upper band \"Band_Bot\" will be our lower band, and \"Band_Width\" will be the distance from the top to the bottom of the band.\n",
    "\n",
    "Additionally, we will create the column \"20_Day_Prev\", which calculates adjusted profit over the previous 20 days. We will use this column later on in our analysis."
   ]
  },
  {
   "cell_type": "code",
   "execution_count": 99,
   "metadata": {},
   "outputs": [
    {
     "data": {
      "text/html": [
       "<div>\n",
       "<style scoped>\n",
       "    .dataframe tbody tr th:only-of-type {\n",
       "        vertical-align: middle;\n",
       "    }\n",
       "\n",
       "    .dataframe tbody tr th {\n",
       "        vertical-align: top;\n",
       "    }\n",
       "\n",
       "    .dataframe thead th {\n",
       "        text-align: right;\n",
       "    }\n",
       "</style>\n",
       "<table border=\"1\" class=\"dataframe\">\n",
       "  <thead>\n",
       "    <tr style=\"text-align: right;\">\n",
       "      <th></th>\n",
       "      <th>Date</th>\n",
       "      <th>Ohlc_Avg</th>\n",
       "      <th>Is_Calculable</th>\n",
       "      <th>20_Day_MSA</th>\n",
       "      <th>20_Day_SD</th>\n",
       "      <th>Band_Top</th>\n",
       "      <th>Band_Bot</th>\n",
       "      <th>Band_Width</th>\n",
       "      <th>20_Day_Prev</th>\n",
       "    </tr>\n",
       "  </thead>\n",
       "  <tbody>\n",
       "    <tr>\n",
       "      <th>0</th>\n",
       "      <td>2013-04-07</td>\n",
       "      <td>157.021604</td>\n",
       "      <td>False</td>\n",
       "      <td>NaN</td>\n",
       "      <td>NaN</td>\n",
       "      <td>NaN</td>\n",
       "      <td>NaN</td>\n",
       "      <td>NaN</td>\n",
       "      <td>NaN</td>\n",
       "    </tr>\n",
       "    <tr>\n",
       "      <th>1</th>\n",
       "      <td>2013-04-08</td>\n",
       "      <td>185.639790</td>\n",
       "      <td>False</td>\n",
       "      <td>NaN</td>\n",
       "      <td>NaN</td>\n",
       "      <td>NaN</td>\n",
       "      <td>NaN</td>\n",
       "      <td>NaN</td>\n",
       "      <td>NaN</td>\n",
       "    </tr>\n",
       "    <tr>\n",
       "      <th>2</th>\n",
       "      <td>2013-04-09</td>\n",
       "      <td>216.700960</td>\n",
       "      <td>False</td>\n",
       "      <td>NaN</td>\n",
       "      <td>NaN</td>\n",
       "      <td>NaN</td>\n",
       "      <td>NaN</td>\n",
       "      <td>NaN</td>\n",
       "      <td>NaN</td>\n",
       "    </tr>\n",
       "    <tr>\n",
       "      <th>3</th>\n",
       "      <td>2013-04-10</td>\n",
       "      <td>196.245882</td>\n",
       "      <td>False</td>\n",
       "      <td>NaN</td>\n",
       "      <td>NaN</td>\n",
       "      <td>NaN</td>\n",
       "      <td>NaN</td>\n",
       "      <td>NaN</td>\n",
       "      <td>NaN</td>\n",
       "    </tr>\n",
       "    <tr>\n",
       "      <th>4</th>\n",
       "      <td>2013-04-11</td>\n",
       "      <td>107.032971</td>\n",
       "      <td>False</td>\n",
       "      <td>NaN</td>\n",
       "      <td>NaN</td>\n",
       "      <td>NaN</td>\n",
       "      <td>NaN</td>\n",
       "      <td>NaN</td>\n",
       "      <td>NaN</td>\n",
       "    </tr>\n",
       "  </tbody>\n",
       "</table>\n",
       "</div>"
      ],
      "text/plain": [
       "         Date    Ohlc_Avg  Is_Calculable  20_Day_MSA  20_Day_SD  Band_Top  \\\n",
       "0  2013-04-07  157.021604          False         NaN        NaN       NaN   \n",
       "1  2013-04-08  185.639790          False         NaN        NaN       NaN   \n",
       "2  2013-04-09  216.700960          False         NaN        NaN       NaN   \n",
       "3  2013-04-10  196.245882          False         NaN        NaN       NaN   \n",
       "4  2013-04-11  107.032971          False         NaN        NaN       NaN   \n",
       "\n",
       "   Band_Bot  Band_Width  20_Day_Prev  \n",
       "0       NaN         NaN          NaN  \n",
       "1       NaN         NaN          NaN  \n",
       "2       NaN         NaN          NaN  \n",
       "3       NaN         NaN          NaN  \n",
       "4       NaN         NaN          NaN  "
      ]
     },
     "execution_count": 99,
     "metadata": {},
     "output_type": "execute_result"
    }
   ],
   "source": [
    "final_filtered_df.loc[:, '20_Day_MSA'] = final_filtered_df.loc[:, 'Ohlc_Avg'].rolling(window=20).mean()\n",
    "final_filtered_df.loc[:, '20_Day_SD'] = final_filtered_df.loc[:, 'Ohlc_Avg'].rolling(window=20).std()\n",
    "\n",
    "\n",
    "def calculate_top_band(row):\n",
    "    return row[\"20_Day_MSA\"] + 2 * row[\"20_Day_SD\"]\n",
    "\n",
    "def calculate_bot_band(row):\n",
    "    return row[\"20_Day_MSA\"] - 2 * row[\"20_Day_SD\"]\n",
    "\n",
    "def calculate_band_width(row):\n",
    "    return row[\"Band_Top\"] - row[\"Band_Bot\"]\n",
    "\n",
    "def calculate_20_day_prev(row):\n",
    "    curr_date = row[\"Date\"]\n",
    "    prev_date = curr_date - datetime.timedelta(days = 19)\n",
    "    curr_price = row[\"Ohlc_Avg\"]\n",
    "    prev_date_df = final_filtered_df[final_filtered_df[\"Date\"] == prev_date]\n",
    "\n",
    "    row_exists = prev_date_df.shape[0] > 0\n",
    "    if row_exists:\n",
    "        prev_price = prev_date_df.iloc[0][\"Ohlc_Avg\"]\n",
    "        return (curr_price - prev_price) / prev_price\n",
    "    return None\n",
    "\n",
    "final_filtered_df.loc[:, \"Band_Top\"] = final_filtered_df.apply(calculate_top_band, axis=1)\n",
    "final_filtered_df.loc[:, \"Band_Bot\"] = final_filtered_df.apply(calculate_bot_band, axis=1)\n",
    "final_filtered_df.loc[:, \"Band_Width\"] = final_filtered_df.apply(calculate_band_width, axis = 1)\n",
    "final_filtered_df.loc[:, \"20_Day_Prev\"] = final_filtered_df.apply(calculate_20_day_prev, axis=1)\n",
    "final_filtered_df.head()"
   ]
  },
  {
   "cell_type": "markdown",
   "metadata": {},
   "source": [
    "Since the 20 day moving average is calculated using pandas' \".rolling\" function, until we get to row 20 in our dataset, we can't calculate the moving average, so it uses NaN as a placeholder. While it may seem like we could've just dropped all NaN values at this state instead of finding \"Is_Calculable\", we use Is_Calculable to find gaps within our dataset (see below):"
   ]
  },
  {
   "cell_type": "code",
   "execution_count": 100,
   "metadata": {},
   "outputs": [
    {
     "data": {
      "text/html": [
       "<div>\n",
       "<style scoped>\n",
       "    .dataframe tbody tr th:only-of-type {\n",
       "        vertical-align: middle;\n",
       "    }\n",
       "\n",
       "    .dataframe tbody tr th {\n",
       "        vertical-align: top;\n",
       "    }\n",
       "\n",
       "    .dataframe thead th {\n",
       "        text-align: right;\n",
       "    }\n",
       "</style>\n",
       "<table border=\"1\" class=\"dataframe\">\n",
       "  <thead>\n",
       "    <tr style=\"text-align: right;\">\n",
       "      <th></th>\n",
       "      <th>Date</th>\n",
       "      <th>Ohlc_Avg</th>\n",
       "      <th>Is_Calculable</th>\n",
       "      <th>20_Day_MSA</th>\n",
       "      <th>20_Day_SD</th>\n",
       "      <th>Band_Top</th>\n",
       "      <th>Band_Bot</th>\n",
       "      <th>Band_Width</th>\n",
       "      <th>20_Day_Prev</th>\n",
       "    </tr>\n",
       "  </thead>\n",
       "  <tbody>\n",
       "    <tr>\n",
       "      <th>1130</th>\n",
       "      <td>2016-07-14</td>\n",
       "      <td>659.355018</td>\n",
       "      <td>True</td>\n",
       "      <td>657.027702</td>\n",
       "      <td>16.103817</td>\n",
       "      <td>689.235335</td>\n",
       "      <td>624.820068</td>\n",
       "      <td>64.415266</td>\n",
       "      <td>-0.008388</td>\n",
       "    </tr>\n",
       "    <tr>\n",
       "      <th>1131</th>\n",
       "      <td>2016-07-15</td>\n",
       "      <td>664.303759</td>\n",
       "      <td>True</td>\n",
       "      <td>656.996283</td>\n",
       "      <td>16.088189</td>\n",
       "      <td>689.172660</td>\n",
       "      <td>624.819905</td>\n",
       "      <td>64.352754</td>\n",
       "      <td>0.049780</td>\n",
       "    </tr>\n",
       "    <tr>\n",
       "      <th>1132</th>\n",
       "      <td>2016-07-31</td>\n",
       "      <td>629.606749</td>\n",
       "      <td>False</td>\n",
       "      <td>656.836476</td>\n",
       "      <td>16.354818</td>\n",
       "      <td>689.546112</td>\n",
       "      <td>624.126840</td>\n",
       "      <td>65.419272</td>\n",
       "      <td>-0.048105</td>\n",
       "    </tr>\n",
       "    <tr>\n",
       "      <th>1133</th>\n",
       "      <td>2016-08-01</td>\n",
       "      <td>616.214778</td>\n",
       "      <td>False</td>\n",
       "      <td>655.508881</td>\n",
       "      <td>18.494714</td>\n",
       "      <td>692.498309</td>\n",
       "      <td>618.519453</td>\n",
       "      <td>73.978855</td>\n",
       "      <td>-0.067457</td>\n",
       "    </tr>\n",
       "    <tr>\n",
       "      <th>1134</th>\n",
       "      <td>2016-08-02</td>\n",
       "      <td>572.658128</td>\n",
       "      <td>False</td>\n",
       "      <td>651.958889</td>\n",
       "      <td>26.128013</td>\n",
       "      <td>704.214916</td>\n",
       "      <td>599.702863</td>\n",
       "      <td>104.512054</td>\n",
       "      <td>-0.131487</td>\n",
       "    </tr>\n",
       "  </tbody>\n",
       "</table>\n",
       "</div>"
      ],
      "text/plain": [
       "            Date    Ohlc_Avg  Is_Calculable  20_Day_MSA  20_Day_SD  \\\n",
       "1130  2016-07-14  659.355018           True  657.027702  16.103817   \n",
       "1131  2016-07-15  664.303759           True  656.996283  16.088189   \n",
       "1132  2016-07-31  629.606749          False  656.836476  16.354818   \n",
       "1133  2016-08-01  616.214778          False  655.508881  18.494714   \n",
       "1134  2016-08-02  572.658128          False  651.958889  26.128013   \n",
       "\n",
       "        Band_Top    Band_Bot  Band_Width  20_Day_Prev  \n",
       "1130  689.235335  624.820068   64.415266    -0.008388  \n",
       "1131  689.172660  624.819905   64.352754     0.049780  \n",
       "1132  689.546112  624.126840   65.419272    -0.048105  \n",
       "1133  692.498309  618.519453   73.978855    -0.067457  \n",
       "1134  704.214916  599.702863  104.512054    -0.131487  "
      ]
     },
     "execution_count": 100,
     "metadata": {},
     "output_type": "execute_result"
    }
   ],
   "source": [
    "final_filtered_df.iloc[1130:1135]"
   ]
  },
  {
   "cell_type": "markdown",
   "metadata": {},
   "source": [
    "Note how the dates in August (8/1, 8/2), aren't calculable as we are missing the days before them (the entire end of July), however Pandas still calculated a 20 day moving average and standard deviation, as it simply calculating based on the previous 20 rows, regardless if they are the actual 20 consecutive days before the current one.\n",
    "\n",
    "We can now get rid of all of the rows that aren't calculable along with the calculable column itself, then plot the Bollinger Bands using pyplot."
   ]
  },
  {
   "cell_type": "code",
   "execution_count": 101,
   "metadata": {},
   "outputs": [
    {
     "name": "stdout",
     "output_type": "stream",
     "text": [
      "         Date    Ohlc_Avg  20_Day_MSA    Band_Top   Band_Bot  Band_Width  \\\n",
      "0  2013-04-26  134.727011  126.300454  206.001107  46.599801  159.401306   \n",
      "1  2013-04-27  132.785210  125.088635  203.549909  46.627360  156.922548   \n",
      "2  2013-04-28  134.424427  122.527866  195.842443  49.213290  146.629153   \n",
      "3  2013-04-29  141.990713  118.792354  178.197349  59.387359  118.809989   \n",
      "4  2013-04-30  140.246259  115.992373  164.261251  67.723495   96.537755   \n",
      "\n",
      "   20_Day_Prev  \n",
      "0    -0.141984  \n",
      "1    -0.284716  \n",
      "2    -0.379678  \n",
      "3    -0.276465  \n",
      "4     0.310309  \n"
     ]
    },
    {
     "data": {
      "image/png": "[encoded data removed]",
      "text/plain": [
       "<Figure size 640x480 with 1 Axes>"
      ]
     },
     "metadata": {},
     "output_type": "display_data"
    }
   ],
   "source": [
    "final_filtered_df = final_filtered_df[final_filtered_df[\"Is_Calculable\"]]\n",
    "bollinger_band_df = final_filtered_df.drop(columns=[\"Is_Calculable\", \"20_Day_SD\"]).reset_index(drop=True)\n",
    "print(bollinger_band_df.head())\n",
    "\n",
    "def plot_bollinger_band(dataset, start = 0, end = -1):\n",
    "    plt.clf()\n",
    "    if end == -1:\n",
    "        end = dataset.shape[0]\n",
    "    \n",
    "    dataset_subset = dataset.iloc[start:end]\n",
    "    # Plot Bitcoin prices\n",
    "    plt.plot(dataset_subset['Date'], dataset_subset['Ohlc_Avg'], label='Bitcoin Prices')\n",
    "\n",
    "    # Plot 20-day Moving Average\n",
    "    plt.plot(dataset_subset['Date'], dataset_subset['20_Day_MSA'], label='20-day Moving Average')\n",
    "\n",
    "    # Plot Bollinger Bands\n",
    "    plt.plot(dataset_subset['Date'], dataset_subset['Band_Top'], label='Bollinger Band Top', linestyle='--', color='green')\n",
    "    plt.plot(dataset_subset['Date'], dataset_subset['Band_Bot'], label='Bollinger Band Bottom', linestyle='--', color='red')\n",
    "\n",
    "\n",
    "    # Add labels and legend\n",
    "    plt.xlabel('Date')\n",
    "    plt.ylabel('Price')\n",
    "    plt.title('Bitcoin Prices with Bollinger Bands')\n",
    "    plt.legend()\n",
    "\n",
    "plot_bollinger_band(bollinger_band_df)\n",
    "\n",
    "\n"
   ]
  },
  {
   "cell_type": "markdown",
   "metadata": {},
   "source": [
    "The dataset is still quite large even after all of the datacleaning. We can use the function we just defined to graph segments of our data on the dataframe indicies."
   ]
  },
  {
   "cell_type": "code",
   "execution_count": 102,
   "metadata": {},
   "outputs": [
    {
     "data": {
      "image/png": "[encoded data removed]",
      "text/plain": [
       "<Figure size 640x480 with 1 Axes>"
      ]
     },
     "metadata": {},
     "output_type": "display_data"
    }
   ],
   "source": [
    "plot_bollinger_band(bollinger_band_df, 1300, 1500)"
   ]
  },
  {
   "cell_type": "markdown",
   "metadata": {},
   "source": [
    "Just be looking at this subset data, we can see some instances where Bollinger Band indicators are accurate (the downard trend in January and February), and others where the indicators seem to fail (the large spike in November and early December seems to indicate a crash much earlier than what actually ocurred).\n",
    "\n",
    "We will test Bollinger Band indicators by analyzing the profit generated if one was to buy 1 Bitcoin, hold for 20 days, then sell. Let's create a new column \"20_Day_Profit\", that represents this amount. Note that we must call \"dropna()\", as if the day 20 days into the future doesn't exist in our dataset, our function to calculate the 20 day pnl returns \"None\", and therefore the row should be dropped.\n",
    "\n",
    "Additionally, we will adjust our profit to the price of bitcoin by dividing the net profit by the price of bitcoin, as the price jumping $200 in 20 days when bitcoin is worth $10,000 is a lot less of an extreme jump as bitcoin prices jumping 200 in 20 days when they start at $100."
   ]
  },
  {
   "cell_type": "code",
   "execution_count": 103,
   "metadata": {},
   "outputs": [
    {
     "data": {
      "text/html": [
       "<div>\n",
       "<style scoped>\n",
       "    .dataframe tbody tr th:only-of-type {\n",
       "        vertical-align: middle;\n",
       "    }\n",
       "\n",
       "    .dataframe tbody tr th {\n",
       "        vertical-align: top;\n",
       "    }\n",
       "\n",
       "    .dataframe thead th {\n",
       "        text-align: right;\n",
       "    }\n",
       "</style>\n",
       "<table border=\"1\" class=\"dataframe\">\n",
       "  <thead>\n",
       "    <tr style=\"text-align: right;\">\n",
       "      <th></th>\n",
       "      <th>Date</th>\n",
       "      <th>Ohlc_Avg</th>\n",
       "      <th>20_Day_MSA</th>\n",
       "      <th>Band_Top</th>\n",
       "      <th>Band_Bot</th>\n",
       "      <th>Band_Width</th>\n",
       "      <th>20_Day_Prev</th>\n",
       "      <th>20_Day_Profit</th>\n",
       "    </tr>\n",
       "  </thead>\n",
       "  <tbody>\n",
       "    <tr>\n",
       "      <th>0</th>\n",
       "      <td>2013-04-26</td>\n",
       "      <td>134.727011</td>\n",
       "      <td>126.300454</td>\n",
       "      <td>206.001107</td>\n",
       "      <td>46.599801</td>\n",
       "      <td>159.401306</td>\n",
       "      <td>-0.141984</td>\n",
       "      <td>-0.179162</td>\n",
       "    </tr>\n",
       "    <tr>\n",
       "      <th>1</th>\n",
       "      <td>2013-04-27</td>\n",
       "      <td>132.785210</td>\n",
       "      <td>125.088635</td>\n",
       "      <td>203.549909</td>\n",
       "      <td>46.627360</td>\n",
       "      <td>156.922548</td>\n",
       "      <td>-0.284716</td>\n",
       "      <td>-0.158452</td>\n",
       "    </tr>\n",
       "    <tr>\n",
       "      <th>2</th>\n",
       "      <td>2013-04-28</td>\n",
       "      <td>134.424427</td>\n",
       "      <td>122.527866</td>\n",
       "      <td>195.842443</td>\n",
       "      <td>49.213290</td>\n",
       "      <td>146.629153</td>\n",
       "      <td>-0.379678</td>\n",
       "      <td>-0.139507</td>\n",
       "    </tr>\n",
       "    <tr>\n",
       "      <th>3</th>\n",
       "      <td>2013-04-29</td>\n",
       "      <td>141.990713</td>\n",
       "      <td>118.792354</td>\n",
       "      <td>178.197349</td>\n",
       "      <td>59.387359</td>\n",
       "      <td>118.809989</td>\n",
       "      <td>-0.276465</td>\n",
       "      <td>-0.170187</td>\n",
       "    </tr>\n",
       "    <tr>\n",
       "      <th>4</th>\n",
       "      <td>2013-04-30</td>\n",
       "      <td>140.246259</td>\n",
       "      <td>115.992373</td>\n",
       "      <td>164.261251</td>\n",
       "      <td>67.723495</td>\n",
       "      <td>96.537755</td>\n",
       "      <td>0.310309</td>\n",
       "      <td>-0.161352</td>\n",
       "    </tr>\n",
       "  </tbody>\n",
       "</table>\n",
       "</div>"
      ],
      "text/plain": [
       "         Date    Ohlc_Avg  20_Day_MSA    Band_Top   Band_Bot  Band_Width  \\\n",
       "0  2013-04-26  134.727011  126.300454  206.001107  46.599801  159.401306   \n",
       "1  2013-04-27  132.785210  125.088635  203.549909  46.627360  156.922548   \n",
       "2  2013-04-28  134.424427  122.527866  195.842443  49.213290  146.629153   \n",
       "3  2013-04-29  141.990713  118.792354  178.197349  59.387359  118.809989   \n",
       "4  2013-04-30  140.246259  115.992373  164.261251  67.723495   96.537755   \n",
       "\n",
       "   20_Day_Prev  20_Day_Profit  \n",
       "0    -0.141984      -0.179162  \n",
       "1    -0.284716      -0.158452  \n",
       "2    -0.379678      -0.139507  \n",
       "3    -0.276465      -0.170187  \n",
       "4     0.310309      -0.161352  "
      ]
     },
     "execution_count": 103,
     "metadata": {},
     "output_type": "execute_result"
    }
   ],
   "source": [
    "def calculate_20_day_pnl(row):\n",
    "    curr_date = row[\"Date\"]\n",
    "    future_date = curr_date + datetime.timedelta(days = 19)\n",
    "    curr_price = row[\"Ohlc_Avg\"]\n",
    "    future_date_df = bollinger_band_df[bollinger_band_df[\"Date\"] == future_date]\n",
    "\n",
    "    row_exists = future_date_df.shape[0] > 0\n",
    "    if row_exists:\n",
    "        future_price = future_date_df.iloc[0][\"Ohlc_Avg\"]\n",
    "        return (future_price - curr_price) / curr_price\n",
    "    return None\n",
    "\n",
    "bollinger_band_df[\"20_Day_Profit\"] = bollinger_band_df.apply(calculate_20_day_pnl, axis = 1)\n",
    "profit_df = bollinger_band_df.dropna().copy()\n",
    "profit_df.head()"
   ]
  },
  {
   "cell_type": "markdown",
   "metadata": {},
   "source": [
    "Now that we have the predicted 20_day_profit, we can create a column that represents what the Bollinger Band predicts will happen in the next 20 days. We can create the column \"Bollinger_Indicator\" and create 3 possible conditions:\n",
    "- down_swing: The market was trending upwards, but is now going to start trending downwards\n",
    "- up_swing: The market was trending downwards, but is now going to start trending upwards\n",
    "- sidways: The market will remain constant\n",
    "\n",
    "We decide on this indicator for each day in our dataset, based on how close the Ohlc Average is to any of the edges of the band. If it exceeds the bottom or top band, we expect a swing in the opposite direction. However if it stays within the band, we expect the market to remain relatively consistent. The following code creates this column. "
   ]
  },
  {
   "cell_type": "code",
   "execution_count": 104,
   "metadata": {},
   "outputs": [
    {
     "data": {
      "text/plain": [
       "Bollinger_Indicator\n",
       "sideways      2086\n",
       "down_swing     227\n",
       "up_swing       109\n",
       "Name: count, dtype: int64"
      ]
     },
     "execution_count": 104,
     "metadata": {},
     "output_type": "execute_result"
    }
   ],
   "source": [
    "def calculate_bollinger_prediction(row):\n",
    "    dist_top = row[\"Band_Top\"] - row[\"Ohlc_Avg\"]\n",
    "    if dist_top < 0: # if the ohlc_avg crosses above the top band\n",
    "        return \"down_swing\"\n",
    "    dist_bottom = row[\"Ohlc_Avg\"] - row[\"Band_Bot\"]\n",
    "    if dist_bottom < 0: # if the ohlc_avg crosses below the bottom band\n",
    "        return \"up_swing\"\n",
    "    return \"sideways\"\n",
    "\n",
    "profit_df.loc[:, \"Bollinger_Indicator\"] = profit_df.apply(calculate_bollinger_prediction, axis=1)\n",
    "profit_df[\"Bollinger_Indicator\"].value_counts()"
   ]
  },
  {
   "cell_type": "markdown",
   "metadata": {},
   "source": [
    "We can also create a column to represent how the price actually changed. If the previous 20 days had positive growth while the next 20 days had negative growth, this would indicate the current day is part of a down_swing, and vice-versa for the up_swing. \n",
    "\n",
    "We must first define thresholds for what is considred a \"up_swing\", \"down_swing\", and \"sideways\". We can define the \"distance\" as the difference between the 20 day pnl in the future (20_Day_Profit) and the 20 day pnl from the past (20_Day_Prev). If the distance is negative, that means we are experience a large shift towards a downward trend, as the future profits were less than the previous profits. We can create a column for distance then use a boxplot to determine what levels of \"distance\" should be considered drastic enough to be considred a \"swing\".\n",
    "\n"
   ]
  },
  {
   "cell_type": "code",
   "execution_count": 105,
   "metadata": {},
   "outputs": [
    {
     "data": {
      "text/plain": [
       "<Axes: ylabel='Distance'>"
      ]
     },
     "execution_count": 105,
     "metadata": {},
     "output_type": "execute_result"
    },
    {
     "data": {
      "image/png": "[encoded data removed]",
      "text/plain": [
       "<Figure size 640x480 with 1 Axes>"
      ]
     },
     "metadata": {},
     "output_type": "display_data"
    }
   ],
   "source": [
    "def calculate_difference(row):\n",
    "    dist = row[\"20_Day_Profit\"] - row[\"20_Day_Prev\"]\n",
    "    return dist\n",
    "profit_df.loc[:, \"Distance\"] = profit_df.apply(calculate_difference, axis=1)\n",
    "sns.boxplot(profit_df[\"Distance\"])"
   ]
  },
  {
   "cell_type": "markdown",
   "metadata": {},
   "source": [
    "As seen by the boxplot, outliers occurr when the distance is above ~0.55 or below ~ -0.65. Using these thresholds for up and down swings repsectively, the following code creates a new column: \"Real_Condition\" that indicates whether each row was part of an up_swing, down_swing, or if the market went sideways (held relatively constant)."
   ]
  },
  {
   "cell_type": "code",
   "execution_count": 106,
   "metadata": {},
   "outputs": [
    {
     "data": {
      "text/plain": [
       "Real_Condition\n",
       "sideways      2290\n",
       "up_swing        87\n",
       "down_swing      45\n",
       "Name: count, dtype: int64"
      ]
     },
     "execution_count": 106,
     "metadata": {},
     "output_type": "execute_result"
    }
   ],
   "source": [
    "def calculate_real_condition(row):\n",
    "    if row[\"Distance\"] < -0.65:\n",
    "        return \"down_swing\"\n",
    "    if row[\"Distance\"] > 0.55:\n",
    "        return \"up_swing\"\n",
    "    return \"sideways\"\n",
    "profit_df.loc[:, \"Real_Condition\"] = profit_df.apply(calculate_real_condition, axis=1)\n",
    "profit_df.head()\n",
    "\n",
    "profit_df[\"Real_Condition\"].value_counts()"
   ]
  },
  {
   "cell_type": "markdown",
   "metadata": {},
   "source": [
    "We can now analyze if there is a correlation between the Bollinger Band prediction and what actually happened (Real_Condition), using a bar plot."
   ]
  },
  {
   "cell_type": "code",
   "execution_count": 107,
   "metadata": {},
   "outputs": [
    {
     "data": {
      "text/plain": [
       "Text(0.5, 1.0, 'Predicted vs Realized Price Swing Conditions')"
      ]
     },
     "execution_count": 107,
     "metadata": {},
     "output_type": "execute_result"
    },
    {
     "data": {
      "image/png": "[encoded data removed]",
      "text/plain": [
       "<Figure size 640x480 with 1 Axes>"
      ]
     },
     "metadata": {},
     "output_type": "display_data"
    }
   ],
   "source": [
    "crosstab = pd.crosstab(profit_df[\"Real_Condition\"], profit_df[\"Bollinger_Indicator\"], normalize='index')\n",
    "crosstab.plot.bar()\n",
    "plt.legend(loc=\"upper left\", title=\"Predicted_Condition\")\n",
    "plt.ylabel(\"Relative Frequency\")\n",
    "plt.title(\"Predicted vs Realized Price Swing Conditions\")"
   ]
  },
  {
   "cell_type": "markdown",
   "metadata": {},
   "source": [
    "To quantify how far the Bollinger Band prediction was from the actual price movement, we can define an additional column \"Predicted_20_Day_PNL\", which will be equal to the previous 20 day pnl plus a change factor determined by the Bollinger Band indicator. A simple example formula for the predicted PNL is as follows: \n",
    "\n",
    "The change factor is defined as the ratio between how far the actual price is from the ohlc average divided by 2 standard deviations, times the expected movement of the band extreme the ohlc average is closest to (0.55 for bottom band, 0.65 for top band) and sign adjusted for expected swings. For example:\n",
    "\n",
    "- If the ohlc_average (current price) is 1.2 standard deviations ABOVE the 20 day moving average, we are still BELOW the top band, so we expect the upward trend to continue. We expect the PNL over the next 20 days to change by 1.2 * 0.65. \n",
    "- If the ohlc_average (current price) is 2.2 standard deviations ABOVE the 20 day moving average, we are now ABOVE the top band so we expect the upward trend to end (ie a down_swing). We expect the PNL over the next 20 days to change by -2.2 * 0.65."
   ]
  },
  {
   "cell_type": "code",
   "execution_count": 108,
   "metadata": {},
   "outputs": [
    {
     "data": {
      "text/html": [
       "<div>\n",
       "<style scoped>\n",
       "    .dataframe tbody tr th:only-of-type {\n",
       "        vertical-align: middle;\n",
       "    }\n",
       "\n",
       "    .dataframe tbody tr th {\n",
       "        vertical-align: top;\n",
       "    }\n",
       "\n",
       "    .dataframe thead th {\n",
       "        text-align: right;\n",
       "    }\n",
       "</style>\n",
       "<table border=\"1\" class=\"dataframe\">\n",
       "  <thead>\n",
       "    <tr style=\"text-align: right;\">\n",
       "      <th></th>\n",
       "      <th>Date</th>\n",
       "      <th>Ohlc_Avg</th>\n",
       "      <th>20_Day_MSA</th>\n",
       "      <th>Band_Top</th>\n",
       "      <th>Band_Bot</th>\n",
       "      <th>Band_Width</th>\n",
       "      <th>20_Day_Prev</th>\n",
       "      <th>20_Day_Profit</th>\n",
       "      <th>Bollinger_Indicator</th>\n",
       "      <th>Distance</th>\n",
       "      <th>Real_Condition</th>\n",
       "      <th>Bollinger_Prediction_PNL</th>\n",
       "    </tr>\n",
       "  </thead>\n",
       "  <tbody>\n",
       "    <tr>\n",
       "      <th>154</th>\n",
       "      <td>2014-01-27</td>\n",
       "      <td>785.499521</td>\n",
       "      <td>820.460563</td>\n",
       "      <td>865.010461</td>\n",
       "      <td>775.910665</td>\n",
       "      <td>89.099796</td>\n",
       "      <td>-0.040613</td>\n",
       "      <td>-0.167681</td>\n",
       "      <td>sideways</td>\n",
       "      <td>-0.127068</td>\n",
       "      <td>sideways</td>\n",
       "      <td>-0.472232</td>\n",
       "    </tr>\n",
       "    <tr>\n",
       "      <th>155</th>\n",
       "      <td>2014-01-28</td>\n",
       "      <td>785.350794</td>\n",
       "      <td>818.790540</td>\n",
       "      <td>866.033001</td>\n",
       "      <td>771.548078</td>\n",
       "      <td>94.484923</td>\n",
       "      <td>-0.041925</td>\n",
       "      <td>-0.201029</td>\n",
       "      <td>sideways</td>\n",
       "      <td>-0.159104</td>\n",
       "      <td>sideways</td>\n",
       "      <td>-0.431233</td>\n",
       "    </tr>\n",
       "    <tr>\n",
       "      <th>156</th>\n",
       "      <td>2014-01-29</td>\n",
       "      <td>795.458000</td>\n",
       "      <td>817.577566</td>\n",
       "      <td>865.952006</td>\n",
       "      <td>769.203127</td>\n",
       "      <td>96.748880</td>\n",
       "      <td>-0.048652</td>\n",
       "      <td>-0.196777</td>\n",
       "      <td>sideways</td>\n",
       "      <td>-0.148125</td>\n",
       "      <td>sideways</td>\n",
       "      <td>-0.300143</td>\n",
       "    </tr>\n",
       "    <tr>\n",
       "      <th>157</th>\n",
       "      <td>2014-01-30</td>\n",
       "      <td>793.045310</td>\n",
       "      <td>815.422954</td>\n",
       "      <td>864.154057</td>\n",
       "      <td>766.691851</td>\n",
       "      <td>97.462206</td>\n",
       "      <td>-0.103585</td>\n",
       "      <td>-0.208405</td>\n",
       "      <td>sideways</td>\n",
       "      <td>-0.104820</td>\n",
       "      <td>sideways</td>\n",
       "      <td>-0.356149</td>\n",
       "    </tr>\n",
       "    <tr>\n",
       "      <th>158</th>\n",
       "      <td>2014-01-31</td>\n",
       "      <td>802.925510</td>\n",
       "      <td>811.334956</td>\n",
       "      <td>847.766799</td>\n",
       "      <td>774.903112</td>\n",
       "      <td>72.863687</td>\n",
       "      <td>-0.056864</td>\n",
       "      <td>-0.219534</td>\n",
       "      <td>sideways</td>\n",
       "      <td>-0.162670</td>\n",
       "      <td>sideways</td>\n",
       "      <td>-0.183819</td>\n",
       "    </tr>\n",
       "    <tr>\n",
       "      <th>159</th>\n",
       "      <td>2014-02-01</td>\n",
       "      <td>815.188975</td>\n",
       "      <td>809.527621</td>\n",
       "      <td>840.829356</td>\n",
       "      <td>778.225886</td>\n",
       "      <td>62.603470</td>\n",
       "      <td>-0.001324</td>\n",
       "      <td>-0.286574</td>\n",
       "      <td>sideways</td>\n",
       "      <td>-0.285250</td>\n",
       "      <td>sideways</td>\n",
       "      <td>0.116238</td>\n",
       "    </tr>\n",
       "    <tr>\n",
       "      <th>160</th>\n",
       "      <td>2014-02-02</td>\n",
       "      <td>817.250533</td>\n",
       "      <td>809.576666</td>\n",
       "      <td>840.925917</td>\n",
       "      <td>778.227415</td>\n",
       "      <td>62.698503</td>\n",
       "      <td>-0.006006</td>\n",
       "      <td>-0.298386</td>\n",
       "      <td>sideways</td>\n",
       "      <td>-0.292380</td>\n",
       "      <td>sideways</td>\n",
       "      <td>0.153105</td>\n",
       "    </tr>\n",
       "    <tr>\n",
       "      <th>161</th>\n",
       "      <td>2014-02-03</td>\n",
       "      <td>807.810865</td>\n",
       "      <td>808.857792</td>\n",
       "      <td>839.643680</td>\n",
       "      <td>778.071904</td>\n",
       "      <td>61.571776</td>\n",
       "      <td>-0.038288</td>\n",
       "      <td>-0.266454</td>\n",
       "      <td>sideways</td>\n",
       "      <td>-0.228167</td>\n",
       "      <td>sideways</td>\n",
       "      <td>-0.056991</td>\n",
       "    </tr>\n",
       "    <tr>\n",
       "      <th>162</th>\n",
       "      <td>2014-02-04</td>\n",
       "      <td>804.453243</td>\n",
       "      <td>807.081890</td>\n",
       "      <td>834.188642</td>\n",
       "      <td>779.975138</td>\n",
       "      <td>54.213504</td>\n",
       "      <td>-0.025574</td>\n",
       "      <td>-0.237044</td>\n",
       "      <td>sideways</td>\n",
       "      <td>-0.211470</td>\n",
       "      <td>sideways</td>\n",
       "      <td>-0.078910</td>\n",
       "    </tr>\n",
       "    <tr>\n",
       "      <th>163</th>\n",
       "      <td>2014-02-05</td>\n",
       "      <td>797.047097</td>\n",
       "      <td>805.655921</td>\n",
       "      <td>831.645942</td>\n",
       "      <td>779.665900</td>\n",
       "      <td>51.980042</td>\n",
       "      <td>-0.002326</td>\n",
       "      <td>-0.315337</td>\n",
       "      <td>sideways</td>\n",
       "      <td>-0.313011</td>\n",
       "      <td>sideways</td>\n",
       "      <td>-0.184506</td>\n",
       "    </tr>\n",
       "  </tbody>\n",
       "</table>\n",
       "</div>"
      ],
      "text/plain": [
       "           Date    Ohlc_Avg  20_Day_MSA    Band_Top    Band_Bot  Band_Width  \\\n",
       "154  2014-01-27  785.499521  820.460563  865.010461  775.910665   89.099796   \n",
       "155  2014-01-28  785.350794  818.790540  866.033001  771.548078   94.484923   \n",
       "156  2014-01-29  795.458000  817.577566  865.952006  769.203127   96.748880   \n",
       "157  2014-01-30  793.045310  815.422954  864.154057  766.691851   97.462206   \n",
       "158  2014-01-31  802.925510  811.334956  847.766799  774.903112   72.863687   \n",
       "159  2014-02-01  815.188975  809.527621  840.829356  778.225886   62.603470   \n",
       "160  2014-02-02  817.250533  809.576666  840.925917  778.227415   62.698503   \n",
       "161  2014-02-03  807.810865  808.857792  839.643680  778.071904   61.571776   \n",
       "162  2014-02-04  804.453243  807.081890  834.188642  779.975138   54.213504   \n",
       "163  2014-02-05  797.047097  805.655921  831.645942  779.665900   51.980042   \n",
       "\n",
       "     20_Day_Prev  20_Day_Profit Bollinger_Indicator  Distance Real_Condition  \\\n",
       "154    -0.040613      -0.167681            sideways -0.127068       sideways   \n",
       "155    -0.041925      -0.201029            sideways -0.159104       sideways   \n",
       "156    -0.048652      -0.196777            sideways -0.148125       sideways   \n",
       "157    -0.103585      -0.208405            sideways -0.104820       sideways   \n",
       "158    -0.056864      -0.219534            sideways -0.162670       sideways   \n",
       "159    -0.001324      -0.286574            sideways -0.285250       sideways   \n",
       "160    -0.006006      -0.298386            sideways -0.292380       sideways   \n",
       "161    -0.038288      -0.266454            sideways -0.228167       sideways   \n",
       "162    -0.025574      -0.237044            sideways -0.211470       sideways   \n",
       "163    -0.002326      -0.315337            sideways -0.313011       sideways   \n",
       "\n",
       "     Bollinger_Prediction_PNL  \n",
       "154                 -0.472232  \n",
       "155                 -0.431233  \n",
       "156                 -0.300143  \n",
       "157                 -0.356149  \n",
       "158                 -0.183819  \n",
       "159                  0.116238  \n",
       "160                  0.153105  \n",
       "161                 -0.056991  \n",
       "162                 -0.078910  \n",
       "163                 -0.184506  "
      ]
     },
     "execution_count": 108,
     "metadata": {},
     "output_type": "execute_result"
    }
   ],
   "source": [
    "TOP_BAND_RATE = 0.65\n",
    "BOT_BAND_RATE = 0.55\n",
    "def calculate_predicted_pnl(row):\n",
    "    standard_deviation = row[\"Band_Width\"] / 4\n",
    "    prv_pnl = row[\"20_Day_Prev\"]\n",
    "    avg_dist = row[\"Ohlc_Avg\"] - row[\"20_Day_MSA\"]\n",
    "    if avg_dist > 0: # if we are above the moving average\n",
    "        if row[\"Ohlc_Avg\"] < row[\"Band_Top\"]: # if we are within the Bollinger Band\n",
    "            return prv_pnl + avg_dist / (2 * standard_deviation) * TOP_BAND_RATE\n",
    "        else:\n",
    "            return prv_pnl - avg_dist / (2 * standard_deviation) * TOP_BAND_RATE\n",
    "    else: # we are below (or at) the moving average\n",
    "        if row[\"Ohlc_Avg\"] > row[\"Band_Bot\"]: # if we are within the Bollinger Band\n",
    "            return prv_pnl + avg_dist / (2 * standard_deviation) * BOT_BAND_RATE\n",
    "        else:\n",
    "            return prv_pnl - avg_dist / (2 * standard_deviation) * BOT_BAND_RATE\n",
    "profit_df.loc[:, \"Bollinger_Prediction_PNL\"] = profit_df.apply(calculate_predicted_pnl, axis=1)\n",
    "profit_df.head()\n",
    "profit_df.iloc[120:130]"
   ]
  },
  {
   "cell_type": "markdown",
   "metadata": {},
   "source": [
    "To create the categorical variable to quantify the volatility of bitcoin prices (in order to answer our research question), we can use the quartiles of the band_width as a categorical variable. Using .describe() to find the quartiles, we can create the function \"generate_quartile_widths\" which takes a row and outputs the quartile band-width it is in, then create a new column \"Band_Width_Quartiles\" to represent this variable."
   ]
  },
  {
   "cell_type": "code",
   "execution_count": 109,
   "metadata": {},
   "outputs": [
    {
     "name": "stdout",
     "output_type": "stream",
     "text": [
      "count     2422.000000\n",
      "mean      1733.349517\n",
      "std       3154.342031\n",
      "min         13.516319\n",
      "25%        116.158145\n",
      "50%        650.928620\n",
      "75%       2101.237295\n",
      "max      26293.678567\n",
      "Name: Band_Width, dtype: float64\n"
     ]
    }
   ],
   "source": [
    "print(profit_df[\"Band_Width\"].describe())\n",
    "def generate_quartile_widths(row):\n",
    "    width = row[\"Band_Width\"]\n",
    "    if width < 116:\n",
    "        return \"1st\"\n",
    "    if width < 650:\n",
    "        return \"2nd\"\n",
    "    if width < 2101:\n",
    "        return \"3rd\"\n",
    "    return \"4th\"\n",
    "\n",
    "profit_df.loc[:, \"Band_Width_Quartiles\"] = profit_df.apply(generate_quartile_widths, axis=1)\n",
    "profit_df[\"Band_Width_Quartiles\"].value_counts()\n",
    "final_analysis_values = profit_df[[\"Date\", \"20_Day_Profit\", \"Bollinger_Prediction_PNL\", \"Band_Width_Quartiles\"]]\n"
   ]
  },
  {
   "cell_type": "markdown",
   "metadata": {},
   "source": [
    "Now that we have our 3 variables (Bollinger Band's Prediction PNL, the realized 20 day PNL, and the quartiles of each of the different band widths), we can answer our question \"how does the effectiveness of Bollinger Band indicators vary with different levels of price volatility\" by plotting the predicted PNL and the realized PNL on a scatterplot, then differentiating the different band width quartiles (volatility levels) with 4 different hues. We plot the line y = x over our dataset to see where the Bollinger Band model over/underestimates the realized PNL."
   ]
  },
  {
   "cell_type": "code",
   "execution_count": 110,
   "metadata": {},
   "outputs": [
    {
     "data": {
      "text/plain": [
       "Text(0.5, 1.0, 'Bollinger Band Predicted PNL vs Realized 20 Day PNL: Controlled By Volatility')"
      ]
     },
     "execution_count": 110,
     "metadata": {},
     "output_type": "execute_result"
    },
    {
     "data": {
      "image/png": "[encoded data removed]",
      "text/plain": [
       "<Figure size 664.361x500 with 1 Axes>"
      ]
     },
     "metadata": {},
     "output_type": "display_data"
    }
   ],
   "source": [
    "sns.lmplot(x='Bollinger_Prediction_PNL', y='20_Day_Profit', hue='Band_Width_Quartiles', ci=False, data=final_analysis_values)\n",
    "\n",
    "plt.plot(final_analysis_values[\"20_Day_Profit\"], final_analysis_values[\"20_Day_Profit\"])\n",
    "plt.title(\"Bollinger Band Predicted PNL vs Realized 20 Day PNL: Controlled By Volatility\")"
   ]
  },
  {
   "cell_type": "markdown",
   "metadata": {},
   "source": [
    "## 5. Conclusion"
   ]
  },
  {
   "cell_type": "markdown",
   "metadata": {},
   "source": [
    "There are two main conclusions that we can gain from the analysis of Bollinger Bands on Bitcoin prices. The first is that there seems to be some correlation between Bollinger Bands and price swings. As seen by the barplot titled \"Predicted vs Realized Price Swing Conditions\", the prediction of the Bollinger Band had an effect on the relative frequencies of the 3 types of price swing conditions. For example, if Bollinger Bands predicted a sideways market, a sideways market was realized more often than if Bollinger Bands predicted an up_swing or down_swing, and this was true for the other two conditions as well. This implies that for its primary purpose (predicting trend reversions/swings), Bollinger Bands might be a useful indicator to consider."
   ]
  },
  {
   "cell_type": "markdown",
   "metadata": {},
   "source": [
    "The second conclusion results from the analysis of using Bollinger Bands to predict future Bitcoin Prices. While Bollinger Bands seem to be able to predict price swings with some consistency, the same can't be said for predicting future prices in general.\n",
    "\n",
    "While some of the outliers accurately predicted the 20 day PNL, a vast majority of the predicted PNL values were far very far away from the Bollinger Prediction, with an even amount of over and under estimation. It is also worth noting that the 1st and 2nd quartiles had outliers where the Bollinger Prediction was closest to the Realized PNL, while the 3rd quartile had outliers that were the furthest from the Realized PNL (a consistent overestimation). The 4th quartile had the least amount of outliers.\n",
    "\n",
    "The slopes for all volatility levels were much closer to 0 than the expected slope of 1, however all of them were distinct. The 1st quartile of volatilities had the steepest slope, followed by 2nd, 4th, than 3rd, which implies that the Bollinger Band method works best with lower amounts of volatilities.\n",
    "\n",
    "This is similar to the shapes of the different volatiliy levels, the 3rd quartile of volatility has a shape that is very flat, while the 4th quartile is a cluster centered around (0,0). The 1st and 2nd quartiles have linear spreading outliers, but also cluster around (0, 0).\n",
    "\n",
    "It is clear that Bollinger Bands (using the formula derived in this analysis) are not sufficient to use as the only tool to predict future prices, and should be used in tandem with other technical indicators that are better suited to predict prices. "
   ]
  },
  {
   "cell_type": "markdown",
   "metadata": {},
   "source": [
    "One general caveat of the above analysis is that the formula for Bollinger Band price prediction was somewhat arbitrary. It may be possible to edit the thresholds or potentially revamp the formula to result in better price prediction performance. Additionally, this analysis only takes into account Bitcoin prices. Different commodities (such as other cryptocurrencies or even other equities such as stocks), may react differently to changes in the market, and might not be as suited to Bollinger Band analysis, which may impact how useful this analysis is depending on the types of commodities a trader is looking to work with.\n",
    "\n",
    "Analyzing other equities (such as stocks) using Bollinger Bands, or tweaking the price prediction formula to try and yield more consistent prediction accuracy would be possible follow up projects to this analysis."
   ]
  }
 ],
 "metadata": {
  "kernelspec": {
   "display_name": "Python 3 (ipykernel)",
   "language": "python",
   "name": "python3"
  },
  "language_info": {
   "codemirror_mode": {
    "name": "ipython",
    "version": 3
   },
   "file_extension": ".py",
   "mimetype": "text/x-python",
   "name": "python",
   "nbconvert_exporter": "python",
   "pygments_lexer": "ipython3",
   "version": "3.12.1"
  }
 },
 "nbformat": 4,
 "nbformat_minor": 4
}
